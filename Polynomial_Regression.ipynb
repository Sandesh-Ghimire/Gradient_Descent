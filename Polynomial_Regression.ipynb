{
  "nbformat": 4,
  "nbformat_minor": 0,
  "metadata": {
    "colab": {
      "provenance": [],
      "include_colab_link": true
    },
    "kernelspec": {
      "name": "python3",
      "display_name": "Python 3"
    },
    "language_info": {
      "name": "python"
    }
  },
  "cells": [
    {
      "cell_type": "markdown",
      "metadata": {
        "id": "view-in-github",
        "colab_type": "text"
      },
      "source": [
        "<a href=\"https://colab.research.google.com/github/Sandesh-Ghimire/Gradient_Descent/blob/master/Polynomial_Regression.ipynb\" target=\"_parent\"><img src=\"https://colab.research.google.com/assets/colab-badge.svg\" alt=\"Open In Colab\"/></a>"
      ]
    },
    {
      "cell_type": "code",
      "execution_count": null,
      "metadata": {
        "id": "2pWfbnxkDtmi"
      },
      "outputs": [],
      "source": [
        "import matplotlib.pyplot as plt\n",
        "import pandas as pd"
      ]
    },
    {
      "cell_type": "code",
      "source": [
        "# Importing the dataset\n",
        "dataset = pd.read_csv('/content/dataset_Pressure.csv')"
      ],
      "metadata": {
        "id": "ptRo-BIuD4Ss"
      },
      "execution_count": null,
      "outputs": []
    },
    {
      "cell_type": "code",
      "source": [
        "dataset"
      ],
      "metadata": {
        "id": "hxBQzkRrhfKp"
      },
      "execution_count": null,
      "outputs": []
    },
    {
      "cell_type": "code",
      "source": [
        "X = dataset.iloc[:,:-1]\n",
        "y = dataset.iloc[:, -1]"
      ],
      "metadata": {
        "id": "ZZ58KT20hlmP"
      },
      "execution_count": null,
      "outputs": []
    },
    {
      "cell_type": "code",
      "source": [
        "# Splitting the dataset into the Training set and Test set\n",
        "from sklearn.model_selection import train_test_split \n",
        "X_train, X_test, y_train, y_test = train_test_split(X, y, test_size=0.2)"
      ],
      "metadata": {
        "id": "N5qSd4QTD5Op"
      },
      "execution_count": null,
      "outputs": []
    },
    {
      "cell_type": "code",
      "source": [
        "# Fitting Linear Regression to the dataset\n",
        "from sklearn.linear_model import LinearRegression\n",
        "lin_reg = LinearRegression()\n",
        "lin_reg.fit(X, y)\n",
        "\n",
        "# Visualizing the Linear Regression results\n",
        "\n",
        "plt.scatter(X, y, color='red')\n",
        "plt.scatter(X, lin_reg.predict(X), color='blue')\n",
        "plt.title('(Linear Regression)')\n",
        "plt.xlabel('temperature')\n",
        "plt.ylabel('pressure')\n",
        "plt.show()\n",
        "   "
      ],
      "metadata": {
        "id": "1gA3GrUjEBG2"
      },
      "execution_count": null,
      "outputs": []
    },
    {
      "cell_type": "code",
      "source": [
        "# Fitting Polynomial Regression to the dataset\n",
        "from sklearn.preprocessing import PolynomialFeatures\n",
        "poly_reg = PolynomialFeatures(degree=2)\n",
        "X_poly = poly_reg.fit_transform(X)\n",
        "pol_reg = LinearRegression()\n",
        "pol_reg.fit(X_poly, y)"
      ],
      "metadata": {
        "colab": {
          "base_uri": "https://localhost:8080/"
        },
        "id": "WAFasHPoEE4V",
        "outputId": "6151f508-4b38-48e3-82bf-6b92b4664ab1"
      },
      "execution_count": null,
      "outputs": [
        {
          "output_type": "execute_result",
          "data": {
            "text/plain": [
              "LinearRegression()"
            ]
          },
          "metadata": {},
          "execution_count": 23
        }
      ]
    },
    {
      "cell_type": "code",
      "source": [
        "X_poly"
      ],
      "metadata": {
        "id": "Mi8bPe1yaHdG"
      },
      "execution_count": null,
      "outputs": []
    },
    {
      "cell_type": "code",
      "source": [
        "# Visualizing the Polymonial Regression results\n",
        "plt.scatter(X, y, color='red')\n",
        "plt.scatter(X, pol_reg.predict(X_poly), color='blue')\n",
        "plt.title('(Polymonial Regression)')\n",
        "plt.xlabel('temperature')\n",
        "plt.ylabel('pressure')\n",
        "plt.show()\n"
      ],
      "metadata": {
        "id": "Y0loCwqnERe3"
      },
      "execution_count": null,
      "outputs": []
    },
    {
      "cell_type": "code",
      "source": [
        "from sklearn.preprocessing import PolynomialFeatures\n",
        "poly_reg = PolynomialFeatures(degree=2)\n",
        "X_poly = poly_reg.fit_transform(X_train)\n",
        "pol_reg = LinearRegression()\n",
        "pol_reg.fit(X_poly, y_train)"
      ],
      "metadata": {
        "id": "91u25kM4Hmbj"
      },
      "execution_count": null,
      "outputs": []
    },
    {
      "cell_type": "code",
      "source": [
        "x_poly_test = poly_reg.fit_transform(X_test)"
      ],
      "metadata": {
        "id": "zqpyWtHBgHGV"
      },
      "execution_count": null,
      "outputs": []
    },
    {
      "cell_type": "code",
      "source": [
        "y_test_pred = pol_reg.predict(x_poly_test)"
      ],
      "metadata": {
        "id": "4h6jxJb9mBXc"
      },
      "execution_count": null,
      "outputs": []
    },
    {
      "cell_type": "code",
      "source": [
        "plt.scatter(X_train, y_train, color='red')\n",
        "plt.scatter(X_test, pol_reg.predict(x_poly_test), color='blue')\n",
        "plt.title('(Polymonial Regression)')\n",
        "plt.xlabel('temperature')\n",
        "plt.ylabel('pressure')\n",
        "plt.show()"
      ],
      "metadata": {
        "id": "nMv98NhzgClx"
      },
      "execution_count": null,
      "outputs": []
    },
    {
      "cell_type": "code",
      "source": [
        "from sklearn.metrics import mean_squared_error, r2_score"
      ],
      "metadata": {
        "id": "IgndnIE0Twz9"
      },
      "execution_count": null,
      "outputs": []
    },
    {
      "cell_type": "code",
      "source": [
        " score = mean_squared_error(y_test, y_test_pred)\n",
        " score"
      ],
      "metadata": {
        "id": "OIE-Fli8hs1Y"
      },
      "execution_count": null,
      "outputs": []
    },
    {
      "cell_type": "code",
      "source": [
        "score1 = r2_score(y_test, y_test_pred)\n",
        "score1"
      ],
      "metadata": {
        "id": "xJo7_l8KhgPL"
      },
      "execution_count": null,
      "outputs": []
    },
    {
      "cell_type": "code",
      "source": [
        "score3 = Adj_r2 = 1 - (1-r2_score(y_test, y_test_pred)) * (len(y)-1)/(len(y)-X.shape[1]-1)\n",
        "score3"
      ],
      "metadata": {
        "id": "4ckMPGAei873"
      },
      "execution_count": null,
      "outputs": []
    }
  ]
}
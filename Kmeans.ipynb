{
  "nbformat": 4,
  "nbformat_minor": 0,
  "metadata": {
    "colab": {
      "provenance": [],
      "include_colab_link": true
    },
    "kernelspec": {
      "name": "python3",
      "display_name": "Python 3"
    },
    "language_info": {
      "name": "python"
    }
  },
  "cells": [
    {
      "cell_type": "markdown",
      "metadata": {
        "id": "view-in-github",
        "colab_type": "text"
      },
      "source": [
        "<a href=\"https://colab.research.google.com/github/Sandesh-Ghimire/Gradient_Descent/blob/master/Kmeans.ipynb\" target=\"_parent\"><img src=\"https://colab.research.google.com/assets/colab-badge.svg\" alt=\"Open In Colab\"/></a>"
      ]
    },
    {
      "cell_type": "code",
      "execution_count": null,
      "metadata": {
        "id": "tpcndwWNnRWj"
      },
      "outputs": [],
      "source": [
        "import numpy as np\n",
        "import pandas as pd\n",
        "import seaborn as sns\n",
        "import matplotlib.pyplot as plt\n",
        "from sklearn.preprocessing import StandardScaler\n",
        "from sklearn.cluster import KMeans"
      ]
    },
    {
      "cell_type": "code",
      "source": [
        "my_data = pd.read_csv('/content/Air_Quality.csv')"
      ],
      "metadata": {
        "id": "3chy5TGGnfjP"
      },
      "execution_count": null,
      "outputs": []
    },
    {
      "cell_type": "code",
      "source": [
        "my_data"
      ],
      "metadata": {
        "id": "wPAmevQwnhgi"
      },
      "execution_count": null,
      "outputs": []
    },
    {
      "cell_type": "code",
      "source": [
        "my_data.isnull().sum()"
      ],
      "metadata": {
        "id": "zMAU0oNIoEU1"
      },
      "execution_count": null,
      "outputs": []
    },
    {
      "cell_type": "code",
      "source": [
        "my_data.dropna(inplace=True)"
      ],
      "metadata": {
        "id": "q-7rJv5NoNGY"
      },
      "execution_count": null,
      "outputs": []
    },
    {
      "cell_type": "code",
      "source": [
        "my_data.drop(['id','country','last_update','city','pollutant_id','station'],axis = 1,inplace = True)"
      ],
      "metadata": {
        "id": "ZRUe4Pvora43"
      },
      "execution_count": null,
      "outputs": []
    },
    {
      "cell_type": "code",
      "source": [
        "my_data.drop(['state'],axis = 1,inplace = True)"
      ],
      "metadata": {
        "id": "a7EU2gzcrd3w"
      },
      "execution_count": null,
      "outputs": []
    },
    {
      "cell_type": "code",
      "source": [
        "from sklearn.preprocessing import StandardScaler\n",
        "scaler = StandardScaler()\n",
        "X = scaler.fit_transform(my_data.values)"
      ],
      "metadata": {
        "id": "zJtF9oUJriFu"
      },
      "execution_count": null,
      "outputs": []
    },
    {
      "cell_type": "code",
      "source": [
        "from sklearn.preprocessing import StandardScaler\n",
        "scaler = StandardScaler()\n",
        "X = scaler.fit_transform(my_data.values)"
      ],
      "metadata": {
        "id": "hmAl0TBHpY6o"
      },
      "execution_count": null,
      "outputs": []
    },
    {
      "cell_type": "code",
      "source": [
        "my_data_copy = pd.read_csv('/content/Air_Quality.csv', skipinitialspace=True)\n",
        "my_data_copy.dropna(inplace=True)"
      ],
      "metadata": {
        "id": "4YsBjof7o_cT"
      },
      "execution_count": null,
      "outputs": []
    },
    {
      "cell_type": "code",
      "source": [
        "cluster_final = KMeans(n_clusters=2)\n",
        "pred = cluster_final.fit_predict(X)\n",
        "my_data_copy['predict'] = pred"
      ],
      "metadata": {
        "id": "VuSg8xz-p_Hb"
      },
      "execution_count": null,
      "outputs": []
    },
    {
      "cell_type": "code",
      "source": [
        "my_data_copy.columns"
      ],
      "metadata": {
        "id": "JVELVDHzsOli"
      },
      "execution_count": null,
      "outputs": []
    },
    {
      "cell_type": "code",
      "source": [
        "my_data_copy[my_data_copy['predict'] == 1]['state'].unique()"
      ],
      "metadata": {
        "id": "kl6hORTrpPIj"
      },
      "execution_count": null,
      "outputs": []
    }
  ]
}

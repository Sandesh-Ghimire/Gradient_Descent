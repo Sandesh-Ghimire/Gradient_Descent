{
  "cells": [
    {
      "cell_type": "markdown",
      "metadata": {
        "id": "view-in-github",
        "colab_type": "text"
      },
      "source": [
        "<a href=\"https://colab.research.google.com/github/Sandesh-Ghimire/Gradient_Descent/blob/master/Logistic_Regression.ipynb\" target=\"_parent\"><img src=\"https://colab.research.google.com/assets/colab-badge.svg\" alt=\"Open In Colab\"/></a>"
      ]
    },
    {
      "cell_type": "code",
      "execution_count": null,
      "metadata": {
        "id": "DmxFqf1xZIvg"
      },
      "outputs": [],
      "source": [
        "from sklearn.datasets import fetch_openml\n",
        "from sklearn.model_selection import train_test_split\n",
        "import numpy as np\n",
        "import matplotlib.pyplot as plt\n",
        "from sklearn.linear_model import LogisticRegression"
      ]
    },
    {
      "cell_type": "code",
      "execution_count": null,
      "metadata": {
        "id": "zYgueD_uYWC3"
      },
      "outputs": [],
      "source": [
        "X, y = fetch_openml('mnist_784', version=1, return_X_y=True, as_frame=False)\n",
        "print(X.shape, y.shape)"
      ]
    },
    {
      "cell_type": "code",
      "execution_count": null,
      "metadata": {
        "id": "8TLw8_NZYPkL"
      },
      "outputs": [],
      "source": [
        "train_img, test_img, train_lbl, test_lbl = train_test_split(X, y, test_size=0.2)\n",
        "test_lbl.shape"
      ]
    },
    {
      "cell_type": "code",
      "execution_count": null,
      "metadata": {
        "id": "9sHaO5ynZWgN"
      },
      "outputs": [],
      "source": [
        "plt.figure(figsize=(20,15))\n",
        "for index, (image, label) in enumerate(zip(train_img[0:5], train_lbl[0:5])):\n",
        " plt.subplot(1, 5, index + 1)\n",
        " plt.imshow(np.reshape(image, (28,28)), cmap=plt.cm.gray)\n",
        " plt.title('Training: %s\\n' % label, fontsize = 20)"
      ]
    },
    {
      "cell_type": "code",
      "execution_count": null,
      "metadata": {
        "id": "DoCkR5PmZlk6"
      },
      "outputs": [],
      "source": [
        "logisticRegr = LogisticRegression()\n",
        "logisticRegr.fit(train_img, train_lbl)"
      ]
    },
    {
      "cell_type": "code",
      "execution_count": null,
      "metadata": {
        "id": "VA-XZHhTbylU"
      },
      "outputs": [],
      "source": [
        "logisticRegr.predict(test_img[0].reshape(-1,1).T)"
      ]
    },
    {
      "cell_type": "code",
      "execution_count": null,
      "metadata": {
        "id": "w2yIK2wFaokK"
      },
      "outputs": [],
      "source": [
        "logisticRegr.predict(test_img[0:10])"
      ]
    },
    {
      "cell_type": "code",
      "execution_count": null,
      "metadata": {
        "id": "pOKXKClXa44U"
      },
      "outputs": [],
      "source": [
        "predictions = logisticRegr.predict(test_img)"
      ]
    },
    {
      "cell_type": "code",
      "execution_count": null,
      "metadata": {
        "colab": {
          "background_save": true
        },
        "id": "rCg2TMjMctPn"
      },
      "outputs": [],
      "source": [
        "score = logisticRegr.score(test_img, test_lbl)\n",
        "print(score)"
      ]
    }
  ],
  "metadata": {
    "colab": {
      "provenance": [],
      "include_colab_link": true
    },
    "kernelspec": {
      "display_name": "Python 3",
      "name": "python3"
    },
    "language_info": {
      "name": "python"
    }
  },
  "nbformat": 4,
  "nbformat_minor": 0
}
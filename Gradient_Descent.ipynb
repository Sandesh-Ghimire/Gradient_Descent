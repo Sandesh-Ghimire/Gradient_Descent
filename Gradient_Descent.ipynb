{
  "nbformat": 4,
  "nbformat_minor": 0,
  "metadata": {
    "colab": {
      "provenance": []
    },
    "kernelspec": {
      "name": "python3",
      "display_name": "Python 3"
    },
    "language_info": {
      "name": "python"
    }
  },
  "cells": [
    {
      "cell_type": "markdown",
      "source": [
        "**Batch gradient descent**\n",
        "\n",
        "FOR j FROM 0 -> max_iteration: \n",
        "\n",
        "    FOR i FROM 0 -> m: \n",
        "        theta += (alpha / m) * (y[i] - h(x[i])) * x_bar\n",
        "    ENDLOOP\n",
        "ENDLOOP\n",
        "\n",
        "**Stochastic gradient descent**\n",
        "\n",
        "shuffle(x, y)\n",
        "\n",
        "FOR i FROM 0 -> m:\n",
        "\n",
        "    theta += (alpha / m) * (y[i] - h(x[i])) * x_bar  \n",
        "ENDLOOP"
      ],
      "metadata": {
        "id": "I97IgV2rBl3e"
      }
    },
    {
      "cell_type": "code",
      "source": [
        "import numpy as np\n",
        "import matplotlib.pyplot as plt"
      ],
      "metadata": {
        "id": "rerOffBpBqi3"
      },
      "execution_count": null,
      "outputs": []
    },
    {
      "cell_type": "code",
      "source": [
        "\"\"\"Generate data\"\"\"\n",
        "true_slope = 10.889\n",
        "true_intercept = 3.456\n",
        "input_var = np.arange(0.0,100.0)\n",
        "output_var = true_slope * input_var + true_intercept + 500.0 * np.random.rand(len(input_var))"
      ],
      "metadata": {
        "id": "YUUT7X0NCfQy"
      },
      "execution_count": null,
      "outputs": []
    },
    {
      "cell_type": "code",
      "source": [
        "print(input_var, output_var)"
      ],
      "metadata": {
        "id": "YWvS8Wsqy__2"
      },
      "execution_count": null,
      "outputs": []
    },
    {
      "cell_type": "code",
      "source": [
        "\n",
        "plt.xlabel('x')\n",
        "plt.ylabel('y')\n",
        "plt.plot(input_var, output_var)\n",
        "plt.show()"
      ],
      "metadata": {
        "id": "KzZMrL_aCqFy"
      },
      "execution_count": null,
      "outputs": []
    },
    {
      "cell_type": "code",
      "source": [
        "def compute_cost(input_var, output_var, params):\n",
        "    \"Compute linear regression cost\"\n",
        "    num_samples = len(input_var)\n",
        "    cost_sum = 0.0\n",
        "    for x,y in zip(input_var, output_var):\n",
        "        y_hat = np.dot(params, np.array([1.0, x]))\n",
        "        cost_sum += (y_hat - y) ** 2\n",
        "    \n",
        "    cost = cost_sum / (num_samples * 2.0) \n",
        "    return cost"
      ],
      "metadata": {
        "id": "jwoUliEJC3bX"
      },
      "execution_count": null,
      "outputs": []
    },
    {
      "cell_type": "code",
      "source": [
        "def lin_reg_batch_gradient_descent(input_var, output_var, params, alpha, max_iter):\n",
        "    \"\"\"Compute the params for linear regression using batch gradient descent\"\"\" \n",
        "    iteration = 0\n",
        "    num_samples = len(input_var)\n",
        "    cost = np.zeros(max_iter)\n",
        "    params_store = np.zeros([2, max_iter])\n",
        "    \n",
        "    while iteration < max_iter:\n",
        "        cost[iteration] = compute_cost(input_var, output_var, params)\n",
        "        params_store[:, iteration] = params\n",
        "        \n",
        "        print('--------------------------')\n",
        "        print('iteration', cost[iteration])\n",
        "        print('cost:', cost[iteration])\n",
        "        \n",
        "        for x,y in zip(input_var, output_var):\n",
        "            y_hat = np.dot(params, np.array([1.0, x]))\n",
        "            gradient = np.array([1.0, x]) * (y - y_hat)\n",
        "        params +=  alpha * gradient/num_samples        \n",
        "        iteration += 1\n",
        "    return params, cost, params_store\n",
        "    "
      ],
      "metadata": {
        "id": "uIv_5V3-2q3F"
      },
      "execution_count": null,
      "outputs": []
    },
    {
      "cell_type": "code",
      "source": [
        "\"\"\"Train the model\"\"\"\n",
        "from sklearn.model_selection import train_test_split\n",
        "x_train, x_test, y_train, y_test = train_test_split(input_var, output_var, test_size=0.20)\n",
        "\n",
        "params_0 = np.array([20.0, 80.0])\n",
        "\n",
        "alpha_batch = 1e-3\n",
        "max_iter = 500\n",
        "params_hat_batch, cost_batch, params_store_batch = lin_reg_batch_gradient_descent(x_train, y_train, params_0, alpha_batch, max_iter)\n",
        "    "
      ],
      "metadata": {
        "id": "7e-XFLNd2s25"
      },
      "execution_count": null,
      "outputs": []
    },
    {
      "cell_type": "code",
      "source": [
        "plt.scatter(x_test, y_test)\n",
        "plt.plot(x_test, params_hat_batch[0] + params_hat_batch[1]*x_test, 'g', label='batch')\n",
        "plt.xlabel('x')\n",
        "plt.ylabel('y')\n",
        "plt.legend()\n",
        "plt.show()\n",
        "print(f'batch      T0, T1: {params_hat_batch[0]}, {params_hat_batch[1]}')\n",
        "rms_batch = np.sqrt(np.mean(np.square(params_hat_batch[0] + params_hat_batch[1]*x_test - y_test)))\n",
        "print(f'batch rms:      {rms_batch}')"
      ],
      "metadata": {
        "id": "wtzpkYfX8u8n"
      },
      "execution_count": null,
      "outputs": []
    },
    {
      "cell_type": "code",
      "source": [],
      "metadata": {
        "id": "fwdO3aJEZPBs"
      },
      "execution_count": null,
      "outputs": []
    }
  ]
}
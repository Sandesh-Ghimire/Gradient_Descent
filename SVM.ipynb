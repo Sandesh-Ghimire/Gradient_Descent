{
  "nbformat": 4,
  "nbformat_minor": 0,
  "metadata": {
    "colab": {
      "provenance": [],
      "include_colab_link": true
    },
    "kernelspec": {
      "name": "python3",
      "display_name": "Python 3"
    },
    "language_info": {
      "name": "python"
    }
  },
  "cells": [
    {
      "cell_type": "markdown",
      "metadata": {
        "id": "view-in-github",
        "colab_type": "text"
      },
      "source": [
        "<a href=\"https://colab.research.google.com/github/Sandesh-Ghimire/Gradient_Descent/blob/master/SVM.ipynb\" target=\"_parent\"><img src=\"https://colab.research.google.com/assets/colab-badge.svg\" alt=\"Open In Colab\"/></a>"
      ]
    },
    {
      "cell_type": "code",
      "execution_count": null,
      "metadata": {
        "id": "vfZWtgFhPwSb"
      },
      "outputs": [],
      "source": [
        "import pandas as pd\n",
        "import matplotlib.pyplot as plt\n",
        "import numpy as np"
      ]
    },
    {
      "cell_type": "code",
      "source": [
        "data=pd.read_csv('/content/insurance.csv')\n",
        "data.head(5)"
      ],
      "metadata": {
        "id": "stiyZHGHP0eS"
      },
      "execution_count": null,
      "outputs": []
    },
    {
      "cell_type": "code",
      "source": [
        "data = data.drop('sex',axis = 1)"
      ],
      "metadata": {
        "id": "qGW_qpV6TWCf"
      },
      "execution_count": null,
      "outputs": []
    },
    {
      "cell_type": "code",
      "source": [
        "data.dtypes"
      ],
      "metadata": {
        "id": "4Ei3MOE5QCpA"
      },
      "execution_count": null,
      "outputs": []
    },
    {
      "cell_type": "code",
      "source": [
        "data[\"charges\"]=data[\"charges\"].astype(int)\n"
      ],
      "metadata": {
        "id": "PWp7qzQNQYVk"
      },
      "execution_count": null,
      "outputs": []
    },
    {
      "cell_type": "code",
      "source": [
        "data.head(5)"
      ],
      "metadata": {
        "id": "vOQZd4nMQazI"
      },
      "execution_count": null,
      "outputs": []
    },
    {
      "cell_type": "code",
      "source": [
        "x=data.iloc[:,:1].values\n",
        "y=data.iloc[:,-1].values"
      ],
      "metadata": {
        "id": "SsRqSpnFQeS7"
      },
      "execution_count": null,
      "outputs": []
    },
    {
      "cell_type": "code",
      "source": [
        "from sklearn.model_selection import train_test_split\n",
        "x_train, x_test, y_train, y_test = train_test_split(x,y, test_size=0.2)"
      ],
      "metadata": {
        "id": "UO9T7lF3Qg6U"
      },
      "execution_count": null,
      "outputs": []
    },
    {
      "cell_type": "code",
      "source": [
        "#Feature Scaling\n",
        "from sklearn.preprocessing import StandardScaler\n",
        "\n",
        "sc = StandardScaler()\n",
        "x_train = sc.fit_transform(x_train)\n",
        "x_test = sc.transform(x_test)"
      ],
      "metadata": {
        "id": "b_ro3eK7QqWY"
      },
      "execution_count": null,
      "outputs": []
    },
    {
      "cell_type": "code",
      "source": [
        "from sklearn.svm import SVC\n",
        "from sklearn import *\n",
        "classifier=SVC(kernel=\"linear\")\n",
        "classifier.fit(x_train, y_train)"
      ],
      "metadata": {
        "id": "BopJrFcsRUVd"
      },
      "execution_count": null,
      "outputs": []
    },
    {
      "cell_type": "code",
      "source": [
        "print(classifier.predict(sc.transform([[19]])))"
      ],
      "metadata": {
        "id": "uJWvGpcTRtAc"
      },
      "execution_count": null,
      "outputs": []
    },
    {
      "cell_type": "code",
      "source": [
        "y_pred=classifier.predict(x_test)\n",
        "print(y_pred)"
      ],
      "metadata": {
        "id": "zoc0BkhcR9AS"
      },
      "execution_count": null,
      "outputs": []
    },
    {
      "cell_type": "code",
      "source": [
        "print(y_test)"
      ],
      "metadata": {
        "id": "78BgLjelSbmn"
      },
      "execution_count": null,
      "outputs": []
    },
    {
      "cell_type": "code",
      "source": [
        "from sklearn.metrics import mean_squared_error\n",
        "import numpy as np\n",
        "np.sqrt(mean_squared_error(y_test,y_pred))"
      ],
      "metadata": {
        "id": "BVMNg0skUmRV"
      },
      "execution_count": null,
      "outputs": []
    }
  ]
}